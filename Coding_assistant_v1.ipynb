{
  "nbformat": 4,
  "nbformat_minor": 0,
  "metadata": {
    "colab": {
      "provenance": [],
      "authorship_tag": "ABX9TyNm561MQNNzJTufySxRDufG",
      "include_colab_link": true
    },
    "kernelspec": {
      "name": "python3",
      "display_name": "Python 3"
    },
    "language_info": {
      "name": "python"
    }
  },
  "cells": [
    {
      "cell_type": "markdown",
      "metadata": {
        "id": "view-in-github",
        "colab_type": "text"
      },
      "source": [
        "<a href=\"https://colab.research.google.com/github/saurabhlalsaxena/Langchain-Coding-Assistant/blob/main/Coding_assistant_v1.ipynb\" target=\"_parent\"><img src=\"https://colab.research.google.com/assets/colab-badge.svg\" alt=\"Open In Colab\"/></a>"
      ]
    },
    {
      "cell_type": "markdown",
      "source": [
        "#Set Up"
      ],
      "metadata": {
        "id": "97aILF1srpFl"
      }
    },
    {
      "cell_type": "code",
      "execution_count": 1,
      "metadata": {
        "colab": {
          "base_uri": "https://localhost:8080/"
        },
        "id": "w7cg2VNErl4o",
        "outputId": "9eeb0065-24f2-4d5d-e532-63e273d703dd"
      },
      "outputs": [
        {
          "output_type": "stream",
          "name": "stdout",
          "text": [
            "\u001b[2K     \u001b[90m━━━━━━━━━━━━━━━━━━━━━━━━━━━━━━━━━━━━━━━━\u001b[0m \u001b[32m50.4/50.4 kB\u001b[0m \u001b[31m1.8 MB/s\u001b[0m eta \u001b[36m0:00:00\u001b[0m\n",
            "\u001b[2K   \u001b[90m━━━━━━━━━━━━━━━━━━━━━━━━━━━━━━━━━━━━━━━━\u001b[0m \u001b[32m109.9/109.9 kB\u001b[0m \u001b[31m2.1 MB/s\u001b[0m eta \u001b[36m0:00:00\u001b[0m\n",
            "\u001b[2K   \u001b[90m━━━━━━━━━━━━━━━━━━━━━━━━━━━━━━━━━━━━━━━━\u001b[0m \u001b[32m1.0/1.0 MB\u001b[0m \u001b[31m9.7 MB/s\u001b[0m eta \u001b[36m0:00:00\u001b[0m\n",
            "\u001b[2K   \u001b[90m━━━━━━━━━━━━━━━━━━━━━━━━━━━━━━━━━━━━━━━━\u001b[0m \u001b[32m396.2/396.2 kB\u001b[0m \u001b[31m24.4 MB/s\u001b[0m eta \u001b[36m0:00:00\u001b[0m\n",
            "\u001b[2K   \u001b[90m━━━━━━━━━━━━━━━━━━━━━━━━━━━━━━━━━━━━━━━━\u001b[0m \u001b[32m90.9/90.9 kB\u001b[0m \u001b[31m6.4 MB/s\u001b[0m eta \u001b[36m0:00:00\u001b[0m\n",
            "\u001b[2K   \u001b[90m━━━━━━━━━━━━━━━━━━━━━━━━━━━━━━━━━━━━━━━━\u001b[0m \u001b[32m2.3/2.3 MB\u001b[0m \u001b[31m31.5 MB/s\u001b[0m eta \u001b[36m0:00:00\u001b[0m\n",
            "\u001b[2K   \u001b[90m━━━━━━━━━━━━━━━━━━━━━━━━━━━━━━━━━━━━━━━━\u001b[0m \u001b[32m207.3/207.3 kB\u001b[0m \u001b[31m15.9 MB/s\u001b[0m eta \u001b[36m0:00:00\u001b[0m\n",
            "\u001b[2K   \u001b[90m━━━━━━━━━━━━━━━━━━━━━━━━━━━━━━━━━━━━━━━━\u001b[0m \u001b[32m1.2/1.2 MB\u001b[0m \u001b[31m45.8 MB/s\u001b[0m eta \u001b[36m0:00:00\u001b[0m\n",
            "\u001b[2K   \u001b[90m━━━━━━━━━━━━━━━━━━━━━━━━━━━━━━━━━━━━━━━━\u001b[0m \u001b[32m150.7/150.7 kB\u001b[0m \u001b[31m11.0 MB/s\u001b[0m eta \u001b[36m0:00:00\u001b[0m\n",
            "\u001b[2K   \u001b[90m━━━━━━━━━━━━━━━━━━━━━━━━━━━━━━━━━━━━━━━━\u001b[0m \u001b[32m2.3/2.3 MB\u001b[0m \u001b[31m61.6 MB/s\u001b[0m eta \u001b[36m0:00:00\u001b[0m\n",
            "\u001b[2K   \u001b[90m━━━━━━━━━━━━━━━━━━━━━━━━━━━━━━━━━━━━━━━━\u001b[0m \u001b[32m46.0/46.0 kB\u001b[0m \u001b[31m2.9 MB/s\u001b[0m eta \u001b[36m0:00:00\u001b[0m\n",
            "\u001b[2K   \u001b[90m━━━━━━━━━━━━━━━━━━━━━━━━━━━━━━━━━━━━━━━━\u001b[0m \u001b[32m59.5/59.5 kB\u001b[0m \u001b[31m4.1 MB/s\u001b[0m eta \u001b[36m0:00:00\u001b[0m\n",
            "\u001b[2K   \u001b[90m━━━━━━━━━━━━━━━━━━━━━━━━━━━━━━━━━━━━━━━━\u001b[0m \u001b[32m93.5/93.5 kB\u001b[0m \u001b[31m6.9 MB/s\u001b[0m eta \u001b[36m0:00:00\u001b[0m\n",
            "\u001b[2K   \u001b[90m━━━━━━━━━━━━━━━━━━━━━━━━━━━━━━━━━━━━━━━━\u001b[0m \u001b[32m62.7/62.7 kB\u001b[0m \u001b[31m4.5 MB/s\u001b[0m eta \u001b[36m0:00:00\u001b[0m\n",
            "\u001b[2K   \u001b[90m━━━━━━━━━━━━━━━━━━━━━━━━━━━━━━━━━━━━━━━━\u001b[0m \u001b[32m58.3/58.3 kB\u001b[0m \u001b[31m4.0 MB/s\u001b[0m eta \u001b[36m0:00:00\u001b[0m\n",
            "\u001b[2K   \u001b[90m━━━━━━━━━━━━━━━━━━━━━━━━━━━━━━━━━━━━━━━━\u001b[0m \u001b[32m76.4/76.4 kB\u001b[0m \u001b[31m5.0 MB/s\u001b[0m eta \u001b[36m0:00:00\u001b[0m\n",
            "\u001b[2K   \u001b[90m━━━━━━━━━━━━━━━━━━━━━━━━━━━━━━━━━━━━━━━━\u001b[0m \u001b[32m77.9/77.9 kB\u001b[0m \u001b[31m5.5 MB/s\u001b[0m eta \u001b[36m0:00:00\u001b[0m\n",
            "\u001b[2K   \u001b[90m━━━━━━━━━━━━━━━━━━━━━━━━━━━━━━━━━━━━━━━━\u001b[0m \u001b[32m49.3/49.3 kB\u001b[0m \u001b[31m3.0 MB/s\u001b[0m eta \u001b[36m0:00:00\u001b[0m\n",
            "\u001b[2K   \u001b[90m━━━━━━━━━━━━━━━━━━━━━━━━━━━━━━━━━━━━━━━━\u001b[0m \u001b[32m141.9/141.9 kB\u001b[0m \u001b[31m9.1 MB/s\u001b[0m eta \u001b[36m0:00:00\u001b[0m\n",
            "\u001b[2K   \u001b[90m━━━━━━━━━━━━━━━━━━━━━━━━━━━━━━━━━━━━━━━━\u001b[0m \u001b[32m72.0/72.0 kB\u001b[0m \u001b[31m4.5 MB/s\u001b[0m eta \u001b[36m0:00:00\u001b[0m\n",
            "\u001b[?25h"
          ]
        }
      ],
      "source": [
        "!pip install -q -U langchain-cli langchain langchain_core langgraph langchain_community"
      ]
    },
    {
      "cell_type": "code",
      "source": [
        "!pip install -q langchainhub"
      ],
      "metadata": {
        "id": "4hWxf5ArrwdD"
      },
      "execution_count": 2,
      "outputs": []
    },
    {
      "cell_type": "code",
      "source": [
        "!pip install -q openai langchain_openai langchain-anthropic langchain-mistralai"
      ],
      "metadata": {
        "colab": {
          "base_uri": "https://localhost:8080/"
        },
        "id": "mvamK4c-ryXQ",
        "outputId": "0c7bbe70-5575-403d-8b47-94749e03c367"
      },
      "execution_count": 3,
      "outputs": [
        {
          "output_type": "stream",
          "name": "stdout",
          "text": [
            "\u001b[2K   \u001b[90m━━━━━━━━━━━━━━━━━━━━━━━━━━━━━━━━━━━━━━━━\u001b[0m \u001b[32m365.7/365.7 kB\u001b[0m \u001b[31m2.8 MB/s\u001b[0m eta \u001b[36m0:00:00\u001b[0m\n",
            "\u001b[2K   \u001b[90m━━━━━━━━━━━━━━━━━━━━━━━━━━━━━━━━━━━━━━━━\u001b[0m \u001b[32m52.0/52.0 kB\u001b[0m \u001b[31m2.6 MB/s\u001b[0m eta \u001b[36m0:00:00\u001b[0m\n",
            "\u001b[2K   \u001b[90m━━━━━━━━━━━━━━━━━━━━━━━━━━━━━━━━━━━━━━━━\u001b[0m \u001b[32m891.5/891.5 kB\u001b[0m \u001b[31m15.0 MB/s\u001b[0m eta \u001b[36m0:00:00\u001b[0m\n",
            "\u001b[2K   \u001b[90m━━━━━━━━━━━━━━━━━━━━━━━━━━━━━━━━━━━━━━━━\u001b[0m \u001b[32m318.9/318.9 kB\u001b[0m \u001b[31m13.5 MB/s\u001b[0m eta \u001b[36m0:00:00\u001b[0m\n",
            "\u001b[2K   \u001b[90m━━━━━━━━━━━━━━━━━━━━━━━━━━━━━━━━━━━━━━━━\u001b[0m \u001b[32m1.1/1.1 MB\u001b[0m \u001b[31m18.9 MB/s\u001b[0m eta \u001b[36m0:00:00\u001b[0m\n",
            "\u001b[?25h"
          ]
        }
      ]
    },
    {
      "cell_type": "code",
      "source": [
        "!pip install -q langchain_experimental"
      ],
      "metadata": {
        "colab": {
          "base_uri": "https://localhost:8080/"
        },
        "id": "l9gayELur0LF",
        "outputId": "51970647-a06c-439e-a3e6-7172bfefdfc6"
      },
      "execution_count": 4,
      "outputs": [
        {
          "output_type": "stream",
          "name": "stdout",
          "text": [
            "\u001b[2K   \u001b[90m━━━━━━━━━━━━━━━━━━━━━━━━━━━━━━━━━━━━━━━━\u001b[0m \u001b[32m204.3/204.3 kB\u001b[0m \u001b[31m1.6 MB/s\u001b[0m eta \u001b[36m0:00:00\u001b[0m\n",
            "\u001b[?25h"
          ]
        }
      ]
    },
    {
      "cell_type": "code",
      "source": [
        "!pip install -q duckduckgo-search"
      ],
      "metadata": {
        "colab": {
          "base_uri": "https://localhost:8080/"
        },
        "id": "1vi9UEFvr1rh",
        "outputId": "84b9f4b0-8220-4c27-847f-631baabbf2db"
      },
      "execution_count": 5,
      "outputs": [
        {
          "output_type": "stream",
          "name": "stdout",
          "text": [
            "\u001b[2K   \u001b[90m━━━━━━━━━━━━━━━━━━━━━━━━━━━━━━━━━━━━━━━━\u001b[0m \u001b[32m2.8/2.8 MB\u001b[0m \u001b[31m12.9 MB/s\u001b[0m eta \u001b[36m0:00:00\u001b[0m\n",
            "\u001b[?25h"
          ]
        }
      ]
    },
    {
      "cell_type": "code",
      "source": [
        "import os\n",
        "import openai\n",
        "from google.colab import userdata\n",
        "\n",
        "os.environ[\"OPENAI_API_KEY\"] = userdata.get('OPENAI_API_KEY')\n",
        "os.environ[\"ANTHROPIC_API_KEY\"] = userdata.get('ANTHROPIC_API_KEY')\n",
        "os.environ[\"MISTRAL_API_KEY\"] = userdata.get('MISTRAL_API_KEY')"
      ],
      "metadata": {
        "id": "n48K_-RAr3Si"
      },
      "execution_count": 7,
      "outputs": []
    },
    {
      "cell_type": "code",
      "source": [
        "os.environ[\"LANGCHAIN_TRACING_V2\"] = \"true\"\n",
        "os.environ[\"LANGCHAIN_API_KEY\"] = userdata.get('LANGCHAIN_API_KEY')\n",
        "os.environ[\"LANGCHAIN_PROJECT\"] = f\"Coding Assistant\""
      ],
      "metadata": {
        "id": "wijGd7Qir4_b"
      },
      "execution_count": 9,
      "outputs": []
    },
    {
      "cell_type": "code",
      "source": [
        "mkdir projects"
      ],
      "metadata": {
        "id": "RgyBHKgGr6Zm"
      },
      "execution_count": 10,
      "outputs": []
    },
    {
      "cell_type": "markdown",
      "source": [
        "# React Agent"
      ],
      "metadata": {
        "id": "KChXH6CGrr5r"
      }
    },
    {
      "cell_type": "code",
      "source": [
        "from langgraph.prebuilt import create_react_agent\n",
        "from langchain_openai import ChatOpenAI\n",
        "from langchain_anthropic import ChatAnthropic\n",
        "\n",
        "from langchain.tools import BaseTool, StructuredTool, tool\n",
        "from langchain_core.prompts import ChatPromptTemplate, MessagesPlaceholder\n",
        "from langchain_community.tools import DuckDuckGoSearchRun\n",
        "\n",
        "@tool\n",
        "def create_doc(thread_id: str, filename: str) -> str:\n",
        "    \"\"\"\n",
        "    Create a blank document in a folder within the projects directory.\n",
        "\n",
        "    Args:\n",
        "    thread_id (str): The ID of the thread, used to create a subfolder.\n",
        "    filename (str): The name of the file to be created.\n",
        "\n",
        "    Returns:\n",
        "    str: The full path of the created file.\n",
        "    \"\"\"\n",
        "    # Create the full file path\n",
        "    file_path = os.path.join(\"projects\", thread_id, filename)\n",
        "\n",
        "    # Ensure the directory exists\n",
        "    os.makedirs(os.path.dirname(file_path), exist_ok=True)\n",
        "\n",
        "    # Create an empty file\n",
        "    with open(file_path, 'w') as f:\n",
        "        pass  # This creates an empty file\n",
        "\n",
        "    return file_path\n",
        "\n",
        "@tool\n",
        "def append_to_doc(thread_id: str, filename: str, content: str) -> str:\n",
        "    \"\"\"\n",
        "    Append text to an existing document in the specified thread folder.\n",
        "\n",
        "    Args:\n",
        "    thread_id (str): The ID of the thread, used to locate the subfolder.\n",
        "    filename (str): The name of the file to append to.\n",
        "    content (str): The text content to append to the file.\n",
        "\n",
        "    Returns:\n",
        "    str: The full path of the updated file.\n",
        "    \"\"\"\n",
        "    file_path = os.path.join(\"projects\", thread_id, filename)\n",
        "\n",
        "    if not os.path.exists(file_path):\n",
        "        return FileNotFoundError(f\"The file {filename} does not exist in thread {thread_id}\")\n",
        "\n",
        "    with open(file_path, 'a') as f:\n",
        "        f.write(content)\n",
        "\n",
        "    return file_path\n",
        "\n",
        "@tool\n",
        "def folder_exists(thread_id: str) -> bool:\n",
        "  \"\"\"\n",
        "  Check if a folder with the given thread ID exists in the projects directory.\n",
        "\n",
        "  Args:\n",
        "    thread_id (str): The ID of the thread.\n",
        "\n",
        "  Returns:\n",
        "    bool: True if the folder exists, False otherwise.\n",
        "  \"\"\"\n",
        "  folder_path = os.path.join(\"projects\", thread_id)\n",
        "  return os.path.exists(folder_path)\n",
        "\n",
        "#llm = ChatOpenAI(model=\"gpt-4o-mini\")\n",
        "llm = ChatAnthropic(temperature=0, model_name=\"claude-3-5-sonnet-20240620\", max_tokens=4096)\n",
        "\n",
        "# setup the toolkit\n",
        "tools = [create_doc, folder_exists, append_to_doc, DuckDuckGoSearchRun()]\n",
        "\n",
        "# Create a react agent\n",
        "coding_graph = create_react_agent(llm, tools=tools)"
      ],
      "metadata": {
        "id": "o8TqR9sprtYB"
      },
      "execution_count": 11,
      "outputs": []
    },
    {
      "cell_type": "code",
      "source": [
        "from IPython.display import Image, display\n",
        "\n",
        "display(Image(coding_graph.get_graph().draw_mermaid_png()))"
      ],
      "metadata": {
        "colab": {
          "base_uri": "https://localhost:8080/",
          "height": 255
        },
        "id": "ajIfSqRtsVbo",
        "outputId": "d0439670-f172-4f7b-d0d5-e21bcddd2bae"
      },
      "execution_count": 12,
      "outputs": [
        {
          "output_type": "display_data",
          "data": {
            "image/jpeg": "[encoded data removed]",
            "text/plain": [
              "<IPython.core.display.Image object>"
            ]
          },
          "metadata": {}
        }
      ]
    },
    {
      "cell_type": "code",
      "source": [
        "system_prompt = \"\"\"You are an AI assistant tasked with creating a detailed code base to answer user questions. You have access to the following tools:\n",
        "\n",
        "create_doc: Create a blank document in a folder within the documents directory.\n",
        "append_to_doc: Append text to an existing document in the specified thread folder.\n",
        "folder_exists: Check if a folder with the given thread ID exists in the documents directory.\n",
        "DuckDuckGoSearch: A search engine for answering questions about current events or the current state of the world.\n",
        "\n",
        "First, check if a folder for this thread already exists using the folder_exists function.\n",
        "If the folder doesn't exist (function returns False), create the folder.\n",
        "Create a folder structure that includes the files needed for the code. Some of the files that should be created are:\n",
        "\n",
        "Create a new file named \"main\" with the appropriate extension for the chosen language (e.g., .py for Python, .js for JavaScript, .java for Java) in the folder using create_doc.\n",
        "Create a new file named \"utils\" with the appropriate extension in the folder using create_doc.\n",
        "Create a new file for dependency management, if applicable to the language (e.g., requirements.txt for Python, package.json for JavaScript, pom.xml for Java) using create_doc.\n",
        "\n",
        "If the folder already exists (function returns True), you'll be appending to the existing files.\n",
        "For each file, use the append_to_doc function to add the necessary code.\n",
        "When writing the code, consider the following:\n",
        "\n",
        "In the main file, include the main logic to answer the user's question.\n",
        "In the utils file, include any helper functions or classes that might be needed.\n",
        "In the dependency management file, list any external libraries or packages that need to be installed.\n",
        "\n",
        "If you need to search for current information to answer the user's question, use the DuckDuckGoSearch function.\n",
        "After creating or updating the files, provide a summary of the code base and how it answers the user's question and put it in a README.md file. Use the following format for your final output:\n",
        "<answer>\n",
        "[Provide a brief explanation of how the code answers the user's question]\n",
        "Files created/updated:\n",
        "\n",
        "main.[extension]: [Brief description of contents]\n",
        "utils.[extension]: [Brief description of contents]\n",
        "[dependency file]: [List of required libraries/packages]\n",
        "\n",
        "To run the code:\n",
        "\n",
        "[Instructions for installing dependencies, if applicable]\n",
        "[Instructions for running the main script]\n",
        "</answer>\n",
        "\n",
        "\n",
        "Remember to use proper syntax and best practices for the chosen programming language when writing the code. Make sure the code is well-commented and easy to understand.\n",
        "When implementing this prompt, replace [extension] with the appropriate file extension for the chosen language, and adjust the dependency management file and running instructions according to the specific language and environment.\n",
        "\"\"\""
      ],
      "metadata": {
        "id": "23EYhKL5sYTH"
      },
      "execution_count": 13,
      "outputs": []
    },
    {
      "cell_type": "code",
      "source": [
        "question = \"\"\"Write a flask application that uses celery to hit the below api and displays the result in a webpage:\n",
        "API Documentation\n",
        "Base URL for all endpoints https://cat-fact.herokuapp.com\n",
        "\n",
        "The response time will likely be a few seconds long on the first request, because this app is running on a free Heroku dyno. Subsequent requests will behave as normal.\n",
        "\n",
        "Endpoints\n",
        "/facts Retrieve and query facts\n",
        "\n",
        "/users* Get user data\n",
        "\n",
        "* Requires authentication. As of now, this can only be achieved by logging in manually on the website.\n",
        "\n",
        "Models\n",
        "Fact An animal fact\n",
        "\n",
        "User A user of the Cat Facts site\"\"\""
      ],
      "metadata": {
        "id": "-NZAXl_5svjp"
      },
      "execution_count": 14,
      "outputs": []
    },
    {
      "cell_type": "code",
      "source": [
        "import random\n",
        "\n",
        "thread_id = ''.join(str(random.randint(0, 9)) for _ in range(4))\n",
        "#question = \"Write a code to print the fibonacii series\"\n",
        "user_prompt = f\"thread_id = {thread_id} question = {question}\"\n",
        "inputs = {\"messages\": [(\"system\", system_prompt),(\"user\", user_prompt)]}\n",
        "coding_graph.invoke(inputs, stream_mode=\"values\")"
      ],
      "metadata": {
        "colab": {
          "base_uri": "https://localhost:8080/"
        },
        "id": "U3b6zS1OsxQo",
        "outputId": "1e13b717-0c21-46ad-fb26-6f087a098394"
      },
      "execution_count": 15,
      "outputs": [
        {
          "output_type": "execute_result",
          "data": {
            "text/plain": [
              "{'messages': [SystemMessage(content='You are an AI assistant tasked with creating a detailed code base to answer user questions. You have access to the following tools:\\n\\ncreate_doc: Create a blank document in a folder within the documents directory.\\nappend_to_doc: Append text to an existing document in the specified thread folder.\\nfolder_exists: Check if a folder with the given thread ID exists in the documents directory.\\nDuckDuckGoSearch: A search engine for answering questions about current events or the current state of the world.\\n\\nFirst, check if a folder for this thread already exists using the folder_exists function.\\nIf the folder doesn\\'t exist (function returns False), create the folder.\\nCreate a folder structure that includes the files needed for the code. Some of the files that should be created are:\\n\\nCreate a new file named \"main\" with the appropriate extension for the chosen language (e.g., .py for Python, .js for JavaScript, .java for Java) in the folder using create_doc.\\nCreate a new file named \"utils\" with the appropriate extension in the folder using create_doc.\\nCreate a new file for dependency management, if applicable to the language (e.g., requirements.txt for Python, package.json for JavaScript, pom.xml for Java) using create_doc.\\n\\nIf the folder already exists (function returns True), you\\'ll be appending to the existing files.\\nFor each file, use the append_to_doc function to add the necessary code.\\nWhen writing the code, consider the following:\\n\\nIn the main file, include the main logic to answer the user\\'s question.\\nIn the utils file, include any helper functions or classes that might be needed.\\nIn the dependency management file, list any external libraries or packages that need to be installed.\\n\\nIf you need to search for current information to answer the user\\'s question, use the DuckDuckGoSearch function.\\nAfter creating or updating the files, provide a summary of the code base and how it answers the user\\'s question and put it in a README.md file. Use the following format for your final output:\\n<answer>\\n[Provide a brief explanation of how the code answers the user\\'s question]\\nFiles created/updated:\\n\\nmain.[extension]: [Brief description of contents]\\nutils.[extension]: [Brief description of contents]\\n[dependency file]: [List of required libraries/packages]\\n\\nTo run the code:\\n\\n[Instructions for installing dependencies, if applicable]\\n[Instructions for running the main script]\\n</answer>\\n\\n\\nRemember to use proper syntax and best practices for the chosen programming language when writing the code. Make sure the code is well-commented and easy to understand.\\nWhen implementing this prompt, replace [extension] with the appropriate file extension for the chosen language, and adjust the dependency management file and running instructions according to the specific language and environment.\\n', id='c44d3630-32f4-4449-bcef-69495483ca66'),\n",
              "  HumanMessage(content='thread_id = 9035 question = Write a flask application that uses celery to hit the below api and displays the result in a webpage:\\nAPI Documentation\\nBase URL for all endpoints https://cat-fact.herokuapp.com\\n\\nThe response time will likely be a few seconds long on the first request, because this app is running on a free Heroku dyno. Subsequent requests will behave as normal.\\n\\nEndpoints\\n/facts Retrieve and query facts\\n\\n/users* Get user data\\n\\n* Requires authentication. As of now, this can only be achieved by logging in manually on the website.\\n\\nModels\\nFact An animal fact\\n\\nUser A user of the Cat Facts site', id='1b80752b-62c5-483a-9aa0-1cfdd3fddea8'),\n",
              "  AIMessage(content=[{'text': \"Certainly! I'll create a Flask application that uses Celery to hit the Cat Facts API and display the results on a webpage. Let's start by setting up the necessary files and code structure.\", 'type': 'text'}, {'id': 'toolu_01Kj8KKRRHgpxjfWwdrpBmTv', 'input': {'thread_id': '9035'}, 'name': 'folder_exists', 'type': 'tool_use'}], response_metadata={'id': 'msg_01KH3UX68qAHrzFysuo65SVk', 'model': 'claude-3-5-sonnet-20240620', 'stop_reason': 'tool_use', 'stop_sequence': None, 'usage': {'input_tokens': 1551, 'output_tokens': 97}}, id='run-32c3c985-b989-4e30-a674-f6f1fa998cc7-0', tool_calls=[{'name': 'folder_exists', 'args': {'thread_id': '9035'}, 'id': 'toolu_01Kj8KKRRHgpxjfWwdrpBmTv', 'type': 'tool_call'}], usage_metadata={'input_tokens': 1551, 'output_tokens': 97, 'total_tokens': 1648}),\n",
              "  ToolMessage(content='false', name='folder_exists', id='58762707-75ba-4efd-9d00-850956928ef2', tool_call_id='toolu_01Kj8KKRRHgpxjfWwdrpBmTv'),\n",
              "  AIMessage(content=[{'text': \"Since the folder doesn't exist, let's create the necessary files for our Flask application with Celery integration.\", 'type': 'text'}, {'id': 'toolu_01V9ockNpzP4aPJQgEoSuT5G', 'input': {'thread_id': '9035', 'filename': 'main.py'}, 'name': 'create_doc', 'type': 'tool_use'}], response_metadata={'id': 'msg_01HM9j6qBnzs9PAWUQAdgatc', 'model': 'claude-3-5-sonnet-20240620', 'stop_reason': 'tool_use', 'stop_sequence': None, 'usage': {'input_tokens': 1661, 'output_tokens': 100}}, id='run-aecdf9dd-8ef2-420c-b761-86735da8dee7-0', tool_calls=[{'name': 'create_doc', 'args': {'thread_id': '9035', 'filename': 'main.py'}, 'id': 'toolu_01V9ockNpzP4aPJQgEoSuT5G', 'type': 'tool_call'}], usage_metadata={'input_tokens': 1661, 'output_tokens': 100, 'total_tokens': 1761}),\n",
              "  ToolMessage(content='projects/9035/main.py', name='create_doc', id='e67dbc5d-9675-4e6d-a95d-b7664783f05c', tool_call_id='toolu_01V9ockNpzP4aPJQgEoSuT5G'),\n",
              "  AIMessage(content=[{'id': 'toolu_01SHS3XWwfwC8tMnUe1Z8cF2', 'input': {'thread_id': '9035', 'filename': 'utils.py'}, 'name': 'create_doc', 'type': 'tool_use'}], response_metadata={'id': 'msg_01AkqYLXPn3pvJJXKyD5yCW3', 'model': 'claude-3-5-sonnet-20240620', 'stop_reason': 'tool_use', 'stop_sequence': None, 'usage': {'input_tokens': 1780, 'output_tokens': 76}}, id='run-d3d76a5f-458a-4bad-88d7-db781d37252f-0', tool_calls=[{'name': 'create_doc', 'args': {'thread_id': '9035', 'filename': 'utils.py'}, 'id': 'toolu_01SHS3XWwfwC8tMnUe1Z8cF2', 'type': 'tool_call'}], usage_metadata={'input_tokens': 1780, 'output_tokens': 76, 'total_tokens': 1856}),\n",
              "  ToolMessage(content='projects/9035/utils.py', name='create_doc', id='bf0345d9-f083-4ede-9b02-993255a20f2a', tool_call_id='toolu_01SHS3XWwfwC8tMnUe1Z8cF2'),\n",
              "  AIMessage(content=[{'id': 'toolu_016aWfCuwDYyqpwXCjPUh38q', 'input': {'thread_id': '9035', 'filename': 'requirements.txt'}, 'name': 'create_doc', 'type': 'tool_use'}], response_metadata={'id': 'msg_01SDxpx222NZP377VNJsrqFz', 'model': 'claude-3-5-sonnet-20240620', 'stop_reason': 'tool_use', 'stop_sequence': None, 'usage': {'input_tokens': 1875, 'output_tokens': 76}}, id='run-dacc7cd9-aec7-4579-b7f2-180a8fc3d150-0', tool_calls=[{'name': 'create_doc', 'args': {'thread_id': '9035', 'filename': 'requirements.txt'}, 'id': 'toolu_016aWfCuwDYyqpwXCjPUh38q', 'type': 'tool_call'}], usage_metadata={'input_tokens': 1875, 'output_tokens': 76, 'total_tokens': 1951}),\n",
              "  ToolMessage(content='projects/9035/requirements.txt', name='create_doc', id='41e8a189-affd-4c6a-8620-231188c5773c', tool_call_id='toolu_016aWfCuwDYyqpwXCjPUh38q'),\n",
              "  AIMessage(content=[{'id': 'toolu_01T5uDmamB1AMy4MQPFnLqAv', 'input': {'thread_id': '9035', 'filename': 'README.md'}, 'name': 'create_doc', 'type': 'tool_use'}], response_metadata={'id': 'msg_014Zu2N5A44RrpE5wqH7boZr', 'model': 'claude-3-5-sonnet-20240620', 'stop_reason': 'tool_use', 'stop_sequence': None, 'usage': {'input_tokens': 1970, 'output_tokens': 76}}, id='run-713b280c-91d2-4e4f-b5c0-39c4183c8bfb-0', tool_calls=[{'name': 'create_doc', 'args': {'thread_id': '9035', 'filename': 'README.md'}, 'id': 'toolu_01T5uDmamB1AMy4MQPFnLqAv', 'type': 'tool_call'}], usage_metadata={'input_tokens': 1970, 'output_tokens': 76, 'total_tokens': 2046}),\n",
              "  ToolMessage(content='projects/9035/README.md', name='create_doc', id='16ab9423-0c4e-457e-af18-25f106e59015', tool_call_id='toolu_01T5uDmamB1AMy4MQPFnLqAv'),\n",
              "  AIMessage(content=[{'text': \"Now, let's add the necessary code to each file.\", 'type': 'text'}, {'id': 'toolu_01LXxv7vVnRb3wwp7nhjZDZ2', 'input': {'thread_id': '9035', 'filename': 'main.py', 'content': \"from flask import Flask, render_template\\nfrom celery import Celery\\nfrom utils import get_cat_fact\\n\\napp = Flask(__name__)\\napp.config['CELERY_BROKER_URL'] = 'redis://localhost:6379/0'\\napp.config['CELERY_RESULT_BACKEND'] = 'redis://localhost:6379/0'\\n\\ncelery = Celery(app.name, broker=app.config['CELERY_BROKER_URL'])\\ncelery.conf.update(app.config)\\n\\n@celery.task\\ndef fetch_cat_fact():\\n    return get_cat_fact()\\n\\n@app.route('/')\\ndef index():\\n    task = fetch_cat_fact.delay()\\n    result = task.wait()\\n    return render_template('index.html', fact=result)\\n\\nif __name__ == '__main__':\\n    app.run(debug=True)\"}, 'name': 'append_to_doc', 'type': 'tool_use'}], response_metadata={'id': 'msg_01HWYrMFw1fZdT13mLGfTvqV', 'model': 'claude-3-5-sonnet-20240620', 'stop_reason': 'tool_use', 'stop_sequence': None, 'usage': {'input_tokens': 2065, 'output_tokens': 322}}, id='run-603b3a18-800d-4421-946f-7e66218a7c8a-0', tool_calls=[{'name': 'append_to_doc', 'args': {'thread_id': '9035', 'filename': 'main.py', 'content': \"from flask import Flask, render_template\\nfrom celery import Celery\\nfrom utils import get_cat_fact\\n\\napp = Flask(__name__)\\napp.config['CELERY_BROKER_URL'] = 'redis://localhost:6379/0'\\napp.config['CELERY_RESULT_BACKEND'] = 'redis://localhost:6379/0'\\n\\ncelery = Celery(app.name, broker=app.config['CELERY_BROKER_URL'])\\ncelery.conf.update(app.config)\\n\\n@celery.task\\ndef fetch_cat_fact():\\n    return get_cat_fact()\\n\\n@app.route('/')\\ndef index():\\n    task = fetch_cat_fact.delay()\\n    result = task.wait()\\n    return render_template('index.html', fact=result)\\n\\nif __name__ == '__main__':\\n    app.run(debug=True)\"}, 'id': 'toolu_01LXxv7vVnRb3wwp7nhjZDZ2', 'type': 'tool_call'}], usage_metadata={'input_tokens': 2065, 'output_tokens': 322, 'total_tokens': 2387}),\n",
              "  ToolMessage(content='projects/9035/main.py', name='append_to_doc', id='6a546de4-019a-424a-9050-7c72b2f0ea30', tool_call_id='toolu_01LXxv7vVnRb3wwp7nhjZDZ2'),\n",
              "  AIMessage(content=[{'id': 'toolu_01VwfVV5L8sLZby5C6aYEKSg', 'input': {'thread_id': '9035', 'filename': 'utils.py', 'content': 'import requests\\n\\ndef get_cat_fact():\\n    url = \"https://cat-fact.herokuapp.com/facts/random\"\\n    response = requests.get(url)\\n    if response.status_code == 200:\\n        data = response.json()\\n        return data[\\'text\\']\\n    else:\\n        return \"Failed to fetch cat fact. Please try again later.\"'}, 'name': 'append_to_doc', 'type': 'tool_use'}], response_metadata={'id': 'msg_01WuU4oBdmit3cc3DWnBw1xq', 'model': 'claude-3-5-sonnet-20240620', 'stop_reason': 'tool_use', 'stop_sequence': None, 'usage': {'input_tokens': 2403, 'output_tokens': 179}}, id='run-c2fd3bf9-0230-4f37-bad1-08e90b5e3bec-0', tool_calls=[{'name': 'append_to_doc', 'args': {'thread_id': '9035', 'filename': 'utils.py', 'content': 'import requests\\n\\ndef get_cat_fact():\\n    url = \"https://cat-fact.herokuapp.com/facts/random\"\\n    response = requests.get(url)\\n    if response.status_code == 200:\\n        data = response.json()\\n        return data[\\'text\\']\\n    else:\\n        return \"Failed to fetch cat fact. Please try again later.\"'}, 'id': 'toolu_01VwfVV5L8sLZby5C6aYEKSg', 'type': 'tool_call'}], usage_metadata={'input_tokens': 2403, 'output_tokens': 179, 'total_tokens': 2582}),\n",
              "  ToolMessage(content='projects/9035/utils.py', name='append_to_doc', id='9955c314-1232-40f6-ade9-d44943da6816', tool_call_id='toolu_01VwfVV5L8sLZby5C6aYEKSg'),\n",
              "  AIMessage(content=[{'id': 'toolu_015o7aMWGRsVEevbKKCkQiwK', 'input': {'thread_id': '9035', 'filename': 'requirements.txt', 'content': 'Flask==2.0.1\\ncelery==5.1.2\\nrequests==2.26.0\\nredis==3.5.3'}, 'name': 'append_to_doc', 'type': 'tool_use'}], response_metadata={'id': 'msg_01JFGKjpyeVpAVej3SQXSLDo', 'model': 'claude-3-5-sonnet-20240620', 'stop_reason': 'tool_use', 'stop_sequence': None, 'usage': {'input_tokens': 2601, 'output_tokens': 126}}, id='run-30c1b14f-f390-4d83-bb36-08c23703a960-0', tool_calls=[{'name': 'append_to_doc', 'args': {'thread_id': '9035', 'filename': 'requirements.txt', 'content': 'Flask==2.0.1\\ncelery==5.1.2\\nrequests==2.26.0\\nredis==3.5.3'}, 'id': 'toolu_015o7aMWGRsVEevbKKCkQiwK', 'type': 'tool_call'}], usage_metadata={'input_tokens': 2601, 'output_tokens': 126, 'total_tokens': 2727}),\n",
              "  ToolMessage(content='projects/9035/requirements.txt', name='append_to_doc', id='164ce6f8-f224-4436-8f8f-92b6526b8584', tool_call_id='toolu_015o7aMWGRsVEevbKKCkQiwK'),\n",
              "  AIMessage(content=[{'text': \"Now, let's create a simple HTML template for displaying the cat fact.\", 'type': 'text'}, {'id': 'toolu_013GL2zrKWtW8EN1Er2G5X4p', 'input': {'thread_id': '9035', 'filename': 'templates/index.html'}, 'name': 'create_doc', 'type': 'tool_use'}], response_metadata={'id': 'msg_014d6hYuX7E3RZwdjbczBGXB', 'model': 'claude-3-5-sonnet-20240620', 'stop_reason': 'tool_use', 'stop_sequence': None, 'usage': {'input_tokens': 2746, 'output_tokens': 94}}, id='run-381d4f90-f1c5-47e0-a1b5-5b4861cb07d3-0', tool_calls=[{'name': 'create_doc', 'args': {'thread_id': '9035', 'filename': 'templates/index.html'}, 'id': 'toolu_013GL2zrKWtW8EN1Er2G5X4p', 'type': 'tool_call'}], usage_metadata={'input_tokens': 2746, 'output_tokens': 94, 'total_tokens': 2840}),\n",
              "  ToolMessage(content='projects/9035/templates/index.html', name='create_doc', id='14345006-4c4a-4842-8698-f97c912236d3', tool_call_id='toolu_013GL2zrKWtW8EN1Er2G5X4p'),\n",
              "  AIMessage(content=[{'id': 'toolu_01V2WQHRmX65REvamPcK8hZB', 'input': {'thread_id': '9035', 'filename': 'templates/index.html', 'content': '<!DOCTYPE html>\\n<html lang=\"en\">\\n<head>\\n    <meta charset=\"UTF-8\">\\n    <meta name=\"viewport\" content=\"width=device-width, initial-scale=1.0\">\\n    <title>Cat Fact</title>\\n</head>\\n<body>\\n    <h1>Random Cat Fact</h1>\\n    <p>{{ fact }}</p>\\n</body>\\n</html>'}, 'name': 'append_to_doc', 'type': 'tool_use'}], response_metadata={'id': 'msg_01RYuW4QmE7oMkbrEvk2MWwK', 'model': 'claude-3-5-sonnet-20240620', 'stop_reason': 'tool_use', 'stop_sequence': None, 'usage': {'input_tokens': 2861, 'output_tokens': 195}}, id='run-ba314a24-7101-44eb-ac2a-c334efc8c2ed-0', tool_calls=[{'name': 'append_to_doc', 'args': {'thread_id': '9035', 'filename': 'templates/index.html', 'content': '<!DOCTYPE html>\\n<html lang=\"en\">\\n<head>\\n    <meta charset=\"UTF-8\">\\n    <meta name=\"viewport\" content=\"width=device-width, initial-scale=1.0\">\\n    <title>Cat Fact</title>\\n</head>\\n<body>\\n    <h1>Random Cat Fact</h1>\\n    <p>{{ fact }}</p>\\n</body>\\n</html>'}, 'id': 'toolu_01V2WQHRmX65REvamPcK8hZB', 'type': 'tool_call'}], usage_metadata={'input_tokens': 2861, 'output_tokens': 195, 'total_tokens': 3056}),\n",
              "  ToolMessage(content='projects/9035/templates/index.html', name='append_to_doc', id='e5991f41-cdab-42d9-9a25-5306c78b6085', tool_call_id='toolu_01V2WQHRmX65REvamPcK8hZB'),\n",
              "  AIMessage(content=[{'text': \"Finally, let's update the README.md file with instructions on how to run the application.\", 'type': 'text'}, {'id': 'toolu_01TVhJN2RQx1RzwLa7Mh3jQg', 'input': {'thread_id': '9035', 'filename': 'README.md', 'content': '# Flask Application with Celery and Cat Facts API\\n\\nThis Flask application uses Celery to fetch a random cat fact from the Cat Facts API and display it on a webpage.\\n\\n## Files created/updated:\\n\\n- main.py: Contains the Flask application and Celery task configuration\\n- utils.py: Contains the function to fetch cat facts from the API\\n- requirements.txt: Lists the required Python packages\\n- templates/index.html: HTML template for displaying the cat fact\\n\\n## To run the code:\\n\\n1. Install the required dependencies:\\n   ```\\n   pip install -r requirements.txt\\n   ```\\n\\n2. Make sure you have Redis installed and running on your system. Redis is used as the message broker for Celery.\\n\\n3. Open three terminal windows:\\n\\n   - In the first terminal, start the Redis server:\\n     ```\\n     redis-server\\n     ```\\n\\n   - In the second terminal, start the Celery worker:\\n     ```\\n     celery -A main.celery worker --loglevel=info\\n     ```\\n\\n   - In the third terminal, run the Flask application:\\n     ```\\n     python main.py\\n     ```\\n\\n4. Open a web browser and navigate to `http://localhost:5000` to see the random cat fact.\\n\\nNote: The application is set to run in debug mode. For production deployment, make sure to disable debug mode and use a production-ready WSGI server like Gunicorn.'}, 'name': 'append_to_doc', 'type': 'tool_use'}], response_metadata={'id': 'msg_01VFLo1hed2uoEtgySVTxUdW', 'model': 'claude-3-5-sonnet-20240620', 'stop_reason': 'tool_use', 'stop_sequence': None, 'usage': {'input_tokens': 3077, 'output_tokens': 431}}, id='run-7fb2ae40-925e-480d-972c-303f336eba54-0', tool_calls=[{'name': 'append_to_doc', 'args': {'thread_id': '9035', 'filename': 'README.md', 'content': '# Flask Application with Celery and Cat Facts API\\n\\nThis Flask application uses Celery to fetch a random cat fact from the Cat Facts API and display it on a webpage.\\n\\n## Files created/updated:\\n\\n- main.py: Contains the Flask application and Celery task configuration\\n- utils.py: Contains the function to fetch cat facts from the API\\n- requirements.txt: Lists the required Python packages\\n- templates/index.html: HTML template for displaying the cat fact\\n\\n## To run the code:\\n\\n1. Install the required dependencies:\\n   ```\\n   pip install -r requirements.txt\\n   ```\\n\\n2. Make sure you have Redis installed and running on your system. Redis is used as the message broker for Celery.\\n\\n3. Open three terminal windows:\\n\\n   - In the first terminal, start the Redis server:\\n     ```\\n     redis-server\\n     ```\\n\\n   - In the second terminal, start the Celery worker:\\n     ```\\n     celery -A main.celery worker --loglevel=info\\n     ```\\n\\n   - In the third terminal, run the Flask application:\\n     ```\\n     python main.py\\n     ```\\n\\n4. Open a web browser and navigate to `http://localhost:5000` to see the random cat fact.\\n\\nNote: The application is set to run in debug mode. For production deployment, make sure to disable debug mode and use a production-ready WSGI server like Gunicorn.'}, 'id': 'toolu_01TVhJN2RQx1RzwLa7Mh3jQg', 'type': 'tool_call'}], usage_metadata={'input_tokens': 3077, 'output_tokens': 431, 'total_tokens': 3508}),\n",
              "  ToolMessage(content='projects/9035/README.md', name='append_to_doc', id='539681b4-74a0-4fd3-9646-cc4d8a60ebd8', tool_call_id='toolu_01TVhJN2RQx1RzwLa7Mh3jQg'),\n",
              "  AIMessage(content='<answer>\\nThis Flask application uses Celery to fetch a random cat fact from the Cat Facts API and display it on a webpage. The code is structured to separate concerns and provide a clear workflow.\\n\\nFiles created/updated:\\n\\nmain.py: Contains the Flask application setup, Celery configuration, and route definition.\\nutils.py: Contains a helper function to fetch cat facts from the API.\\nrequirements.txt: Lists the required Python packages (Flask, Celery, requests, and redis).\\ntemplates/index.html: HTML template for displaying the cat fact.\\nREADME.md: Provides instructions on how to set up and run the application.\\n\\nTo run the code:\\n\\n1. Install dependencies: `pip install -r requirements.txt`\\n2. Ensure Redis is installed and running (used as the message broker for Celery).\\n3. Open three terminal windows:\\n   - Start Redis server: `redis-server`\\n   - Start Celery worker: `celery -A main.celery worker --loglevel=info`\\n   - Run Flask application: `python main.py`\\n4. Open a web browser and go to `http://localhost:5000` to see the random cat fact.\\n\\nThis setup allows for asynchronous processing of API requests using Celery, which can be beneficial for handling potential delays in the Cat Facts API response.\\n</answer>', response_metadata={'id': 'msg_01F6XGDxSbwPwVCo8gec49df', 'model': 'claude-3-5-sonnet-20240620', 'stop_reason': 'end_turn', 'stop_sequence': None, 'usage': {'input_tokens': 3527, 'output_tokens': 306}}, id='run-873dce25-a0c9-41c8-a96d-0ae0241a0f7f-0', usage_metadata={'input_tokens': 3527, 'output_tokens': 306, 'total_tokens': 3833})]}"
            ]
          },
          "metadata": {},
          "execution_count": 15
        }
      ]
    },
    {
      "cell_type": "code",
      "source": [
        "def print_stream(stream):\n",
        "    for s in stream:\n",
        "        message = s[\"messages\"][-1]\n",
        "        if isinstance(message, tuple):\n",
        "            print(message)\n",
        "        else:\n",
        "            message.pretty_print()"
      ],
      "metadata": {
        "id": "Tje-YRyNtEDd"
      },
      "execution_count": 16,
      "outputs": []
    },
    {
      "cell_type": "code",
      "source": [
        "import random\n",
        "\n",
        "thread_id = ''.join(str(random.randint(0, 9)) for _ in range(4))\n",
        "#question = \"Write a code to print the fibonacii series\"\n",
        "user_prompt = f\"thread_id = {thread_id} question = {question}\"\n",
        "inputs = {\"messages\": [(\"system\", system_prompt),(\"user\", user_prompt)]}\n",
        "config = {\"recursion_limit\": 50}\n",
        "print_stream(coding_graph.stream(inputs,config, stream_mode=\"values\"))"
      ],
      "metadata": {
        "colab": {
          "base_uri": "https://localhost:8080/"
        },
        "id": "UKtiyRdStHAO",
        "outputId": "63ff7a22-72a5-4b71-94eb-03e2a66e3038"
      },
      "execution_count": 18,
      "outputs": [
        {
          "output_type": "stream",
          "name": "stdout",
          "text": [
            "================================\u001b[1m Human Message \u001b[0m=================================\n",
            "\n",
            "thread_id = 8582 question = Write a flask application that uses celery to hit the below api and displays the result in a webpage:\n",
            "API Documentation\n",
            "Base URL for all endpoints https://cat-fact.herokuapp.com\n",
            "\n",
            "The response time will likely be a few seconds long on the first request, because this app is running on a free Heroku dyno. Subsequent requests will behave as normal.\n",
            "\n",
            "Endpoints\n",
            "/facts Retrieve and query facts\n",
            "\n",
            "/users* Get user data\n",
            "\n",
            "* Requires authentication. As of now, this can only be achieved by logging in manually on the website.\n",
            "\n",
            "Models\n",
            "Fact An animal fact\n",
            "\n",
            "User A user of the Cat Facts site\n",
            "==================================\u001b[1m Ai Message \u001b[0m==================================\n",
            "\n",
            "[{'text': \"Certainly! I'll create a Flask application that uses Celery to hit the Cat Facts API and display the results on a webpage. Let's start by setting up the necessary files and structure for this project.\", 'type': 'text'}, {'id': 'toolu_016V2GnHGq83FBYhN3vW29YE', 'input': {'thread_id': '8582'}, 'name': 'folder_exists', 'type': 'tool_use'}]\n",
            "Tool Calls:\n",
            "  folder_exists (toolu_016V2GnHGq83FBYhN3vW29YE)\n",
            " Call ID: toolu_016V2GnHGq83FBYhN3vW29YE\n",
            "  Args:\n",
            "    thread_id: 8582\n",
            "=================================\u001b[1m Tool Message \u001b[0m=================================\n",
            "Name: folder_exists\n",
            "\n",
            "false\n",
            "==================================\u001b[1m Ai Message \u001b[0m==================================\n",
            "\n",
            "[{'text': \"Since the folder doesn't exist, let's create the necessary files for our Flask and Celery application.\", 'type': 'text'}, {'id': 'toolu_012URf45Li4B5NY1t7x2RLDt', 'input': {'thread_id': '8582', 'filename': 'main.py'}, 'name': 'create_doc', 'type': 'tool_use'}]\n",
            "Tool Calls:\n",
            "  create_doc (toolu_012URf45Li4B5NY1t7x2RLDt)\n",
            " Call ID: toolu_012URf45Li4B5NY1t7x2RLDt\n",
            "  Args:\n",
            "    thread_id: 8582\n",
            "    filename: main.py\n",
            "=================================\u001b[1m Tool Message \u001b[0m=================================\n",
            "Name: create_doc\n",
            "\n",
            "projects/8582/main.py\n",
            "==================================\u001b[1m Ai Message \u001b[0m==================================\n",
            "\n",
            "[{'id': 'toolu_01JXhipjSbYqj49woG1GXoJw', 'input': {'thread_id': '8582', 'filename': 'utils.py'}, 'name': 'create_doc', 'type': 'tool_use'}]\n",
            "Tool Calls:\n",
            "  create_doc (toolu_01JXhipjSbYqj49woG1GXoJw)\n",
            " Call ID: toolu_01JXhipjSbYqj49woG1GXoJw\n",
            "  Args:\n",
            "    thread_id: 8582\n",
            "    filename: utils.py\n",
            "=================================\u001b[1m Tool Message \u001b[0m=================================\n",
            "Name: create_doc\n",
            "\n",
            "projects/8582/utils.py\n",
            "==================================\u001b[1m Ai Message \u001b[0m==================================\n",
            "\n",
            "[{'id': 'toolu_01EfEn94vGeXFSQvHeomY7QM', 'input': {'thread_id': '8582', 'filename': 'requirements.txt'}, 'name': 'create_doc', 'type': 'tool_use'}]\n",
            "Tool Calls:\n",
            "  create_doc (toolu_01EfEn94vGeXFSQvHeomY7QM)\n",
            " Call ID: toolu_01EfEn94vGeXFSQvHeomY7QM\n",
            "  Args:\n",
            "    thread_id: 8582\n",
            "    filename: requirements.txt\n",
            "=================================\u001b[1m Tool Message \u001b[0m=================================\n",
            "Name: create_doc\n",
            "\n",
            "projects/8582/requirements.txt\n",
            "==================================\u001b[1m Ai Message \u001b[0m==================================\n",
            "\n",
            "[{'id': 'toolu_01Na4Mq4cdgMzD8JjEWPAfpM', 'input': {'thread_id': '8582', 'filename': 'celery_config.py'}, 'name': 'create_doc', 'type': 'tool_use'}]\n",
            "Tool Calls:\n",
            "  create_doc (toolu_01Na4Mq4cdgMzD8JjEWPAfpM)\n",
            " Call ID: toolu_01Na4Mq4cdgMzD8JjEWPAfpM\n",
            "  Args:\n",
            "    thread_id: 8582\n",
            "    filename: celery_config.py\n",
            "=================================\u001b[1m Tool Message \u001b[0m=================================\n",
            "Name: create_doc\n",
            "\n",
            "projects/8582/celery_config.py\n",
            "==================================\u001b[1m Ai Message \u001b[0m==================================\n",
            "\n",
            "[{'text': \"Now, let's add the content to each file.\", 'type': 'text'}, {'id': 'toolu_01K264mvMTaypJRq6JGJQMNK', 'input': {'thread_id': '8582', 'filename': 'main.py', 'content': \"from flask import Flask, render_template\\nfrom celery import Celery\\nfrom utils import get_cat_fact\\n\\napp = Flask(__name__)\\napp.config['CELERY_BROKER_URL'] = 'redis://localhost:6379/0'\\napp.config['CELERY_RESULT_BACKEND'] = 'redis://localhost:6379/0'\\n\\ncelery = Celery(app.name, broker=app.config['CELERY_BROKER_URL'])\\ncelery.conf.update(app.config)\\n\\n@celery.task\\ndef fetch_cat_fact():\\n    return get_cat_fact()\\n\\n@app.route('/')\\ndef index():\\n    task = fetch_cat_fact.delay()\\n    result = task.wait()\\n    return render_template('index.html', fact=result)\\n\\nif __name__ == '__main__':\\n    app.run(debug=True)\"}, 'name': 'append_to_doc', 'type': 'tool_use'}]\n",
            "Tool Calls:\n",
            "  append_to_doc (toolu_01K264mvMTaypJRq6JGJQMNK)\n",
            " Call ID: toolu_01K264mvMTaypJRq6JGJQMNK\n",
            "  Args:\n",
            "    thread_id: 8582\n",
            "    filename: main.py\n",
            "    content: from flask import Flask, render_template\n",
            "from celery import Celery\n",
            "from utils import get_cat_fact\n",
            "\n",
            "app = Flask(__name__)\n",
            "app.config['CELERY_BROKER_URL'] = 'redis://localhost:6379/0'\n",
            "app.config['CELERY_RESULT_BACKEND'] = 'redis://localhost:6379/0'\n",
            "\n",
            "celery = Celery(app.name, broker=app.config['CELERY_BROKER_URL'])\n",
            "celery.conf.update(app.config)\n",
            "\n",
            "@celery.task\n",
            "def fetch_cat_fact():\n",
            "    return get_cat_fact()\n",
            "\n",
            "@app.route('/')\n",
            "def index():\n",
            "    task = fetch_cat_fact.delay()\n",
            "    result = task.wait()\n",
            "    return render_template('index.html', fact=result)\n",
            "\n",
            "if __name__ == '__main__':\n",
            "    app.run(debug=True)\n",
            "=================================\u001b[1m Tool Message \u001b[0m=================================\n",
            "Name: append_to_doc\n",
            "\n",
            "projects/8582/main.py\n",
            "==================================\u001b[1m Ai Message \u001b[0m==================================\n",
            "\n",
            "[{'id': 'toolu_01Ny4Vd9Gdj6WyDt4BsXXNWf', 'input': {'thread_id': '8582', 'filename': 'utils.py', 'content': 'import requests\\n\\ndef get_cat_fact():\\n    url = \"https://cat-fact.herokuapp.com/facts/random\"\\n    response = requests.get(url)\\n    if response.status_code == 200:\\n        data = response.json()\\n        return data[\\'text\\']\\n    else:\\n        return \"Failed to fetch cat fact. Please try again later.\"'}, 'name': 'append_to_doc', 'type': 'tool_use'}]\n",
            "Tool Calls:\n",
            "  append_to_doc (toolu_01Ny4Vd9Gdj6WyDt4BsXXNWf)\n",
            " Call ID: toolu_01Ny4Vd9Gdj6WyDt4BsXXNWf\n",
            "  Args:\n",
            "    thread_id: 8582\n",
            "    filename: utils.py\n",
            "    content: import requests\n",
            "\n",
            "def get_cat_fact():\n",
            "    url = \"https://cat-fact.herokuapp.com/facts/random\"\n",
            "    response = requests.get(url)\n",
            "    if response.status_code == 200:\n",
            "        data = response.json()\n",
            "        return data['text']\n",
            "    else:\n",
            "        return \"Failed to fetch cat fact. Please try again later.\"\n",
            "=================================\u001b[1m Tool Message \u001b[0m=================================\n",
            "Name: append_to_doc\n",
            "\n",
            "projects/8582/utils.py\n",
            "==================================\u001b[1m Ai Message \u001b[0m==================================\n",
            "\n",
            "[{'id': 'toolu_01T4ig2Q9dEfuHpnKvDAvce7', 'input': {'thread_id': '8582', 'filename': 'requirements.txt', 'content': 'Flask==2.0.1\\ncelery==5.1.2\\nrequests==2.26.0\\nredis==3.5.3'}, 'name': 'append_to_doc', 'type': 'tool_use'}]\n",
            "Tool Calls:\n",
            "  append_to_doc (toolu_01T4ig2Q9dEfuHpnKvDAvce7)\n",
            " Call ID: toolu_01T4ig2Q9dEfuHpnKvDAvce7\n",
            "  Args:\n",
            "    thread_id: 8582\n",
            "    filename: requirements.txt\n",
            "    content: Flask==2.0.1\n",
            "celery==5.1.2\n",
            "requests==2.26.0\n",
            "redis==3.5.3\n",
            "=================================\u001b[1m Tool Message \u001b[0m=================================\n",
            "Name: append_to_doc\n",
            "\n",
            "projects/8582/requirements.txt\n",
            "==================================\u001b[1m Ai Message \u001b[0m==================================\n",
            "\n",
            "[{'id': 'toolu_01HtSkeBEE7Kaa57p4Nuxy8S', 'input': {'thread_id': '8582', 'filename': 'celery_config.py', 'content': \"from celery import Celery\\n\\ncelery = Celery('tasks', broker='redis://localhost:6379/0', backend='redis://localhost:6379/0')\\n\\ncelery.conf.update(\\n    task_serializer='json',\\n    accept_content=['json'],\\n    result_serializer='json',\\n    timezone='UTC',\\n    enable_utc=True,\\n)\"}, 'name': 'append_to_doc', 'type': 'tool_use'}]\n",
            "Tool Calls:\n",
            "  append_to_doc (toolu_01HtSkeBEE7Kaa57p4Nuxy8S)\n",
            " Call ID: toolu_01HtSkeBEE7Kaa57p4Nuxy8S\n",
            "  Args:\n",
            "    thread_id: 8582\n",
            "    filename: celery_config.py\n",
            "    content: from celery import Celery\n",
            "\n",
            "celery = Celery('tasks', broker='redis://localhost:6379/0', backend='redis://localhost:6379/0')\n",
            "\n",
            "celery.conf.update(\n",
            "    task_serializer='json',\n",
            "    accept_content=['json'],\n",
            "    result_serializer='json',\n",
            "    timezone='UTC',\n",
            "    enable_utc=True,\n",
            ")\n",
            "=================================\u001b[1m Tool Message \u001b[0m=================================\n",
            "Name: append_to_doc\n",
            "\n",
            "projects/8582/celery_config.py\n",
            "==================================\u001b[1m Ai Message \u001b[0m==================================\n",
            "\n",
            "[{'text': \"Now, let's create a templates folder and an index.html file for our Flask application.\", 'type': 'text'}, {'id': 'toolu_01Be48dvo366wntig9hYRVte', 'input': {'thread_id': '8582', 'filename': 'templates/index.html'}, 'name': 'create_doc', 'type': 'tool_use'}]\n",
            "Tool Calls:\n",
            "  create_doc (toolu_01Be48dvo366wntig9hYRVte)\n",
            " Call ID: toolu_01Be48dvo366wntig9hYRVte\n",
            "  Args:\n",
            "    thread_id: 8582\n",
            "    filename: templates/index.html\n",
            "=================================\u001b[1m Tool Message \u001b[0m=================================\n",
            "Name: create_doc\n",
            "\n",
            "projects/8582/templates/index.html\n",
            "==================================\u001b[1m Ai Message \u001b[0m==================================\n",
            "\n",
            "[{'id': 'toolu_01TA9yCkhkA2zh7qijfbe5TQ', 'input': {'thread_id': '8582', 'filename': 'templates/index.html', 'content': '<!DOCTYPE html>\\n<html lang=\"en\">\\n<head>\\n    <meta charset=\"UTF-8\">\\n    <meta name=\"viewport\" content=\"width=device-width, initial-scale=1.0\">\\n    <title>Cat Fact</title>\\n</head>\\n<body>\\n    <h1>Random Cat Fact</h1>\\n    <p>{{ fact }}</p>\\n    <button onclick=\"location.reload()\">Get Another Fact</button>\\n</body>\\n</html>'}, 'name': 'append_to_doc', 'type': 'tool_use'}]\n",
            "Tool Calls:\n",
            "  append_to_doc (toolu_01TA9yCkhkA2zh7qijfbe5TQ)\n",
            " Call ID: toolu_01TA9yCkhkA2zh7qijfbe5TQ\n",
            "  Args:\n",
            "    thread_id: 8582\n",
            "    filename: templates/index.html\n",
            "    content: <!DOCTYPE html>\n",
            "<html lang=\"en\">\n",
            "<head>\n",
            "    <meta charset=\"UTF-8\">\n",
            "    <meta name=\"viewport\" content=\"width=device-width, initial-scale=1.0\">\n",
            "    <title>Cat Fact</title>\n",
            "</head>\n",
            "<body>\n",
            "    <h1>Random Cat Fact</h1>\n",
            "    <p>{{ fact }}</p>\n",
            "    <button onclick=\"location.reload()\">Get Another Fact</button>\n",
            "</body>\n",
            "</html>\n",
            "=================================\u001b[1m Tool Message \u001b[0m=================================\n",
            "Name: append_to_doc\n",
            "\n",
            "projects/8582/templates/index.html\n",
            "==================================\u001b[1m Ai Message \u001b[0m==================================\n",
            "\n",
            "[{'text': \"Now, let's create a README.md file to explain how to run the application.\", 'type': 'text'}, {'id': 'toolu_01FwXQdZAUfxQCmA1r8ytxic', 'input': {'thread_id': '8582', 'filename': 'README.md'}, 'name': 'create_doc', 'type': 'tool_use'}]\n",
            "Tool Calls:\n",
            "  create_doc (toolu_01FwXQdZAUfxQCmA1r8ytxic)\n",
            " Call ID: toolu_01FwXQdZAUfxQCmA1r8ytxic\n",
            "  Args:\n",
            "    thread_id: 8582\n",
            "    filename: README.md\n",
            "=================================\u001b[1m Tool Message \u001b[0m=================================\n",
            "Name: create_doc\n",
            "\n",
            "projects/8582/README.md\n",
            "==================================\u001b[1m Ai Message \u001b[0m==================================\n",
            "\n",
            "[{'id': 'toolu_018iiMaZNMi9QefYkajVd9Vk', 'input': {'thread_id': '8582', 'filename': 'README.md', 'content': '# Cat Facts Flask Application\\n\\nThis Flask application uses Celery to fetch random cat facts from the Cat Facts API and display them on a webpage.\\n\\n## Files created/updated:\\n\\n- main.py: Contains the Flask application and Celery task definition\\n- utils.py: Contains the function to fetch cat facts from the API\\n- requirements.txt: Lists the required Python packages\\n- celery_config.py: Contains Celery configuration\\n- templates/index.html: HTML template for displaying cat facts\\n\\n## To run the code:\\n\\n1. Install the required dependencies:\\n   ```\\n   pip install -r requirements.txt\\n   ```\\n\\n2. Make sure you have Redis installed and running on your system.\\n\\n3. Start the Celery worker:\\n   ```\\n   celery -A main.celery worker --loglevel=info\\n   ```\\n\\n4. In a new terminal, run the Flask application:\\n   ```\\n   python main.py\\n   ```\\n\\n5. Open a web browser and navigate to `http://localhost:5000` to see the cat fact.\\n\\n6. Click the \"Get Another Fact\" button to fetch and display a new cat fact.\\n\\nNote: The application uses Redis as the message broker for Celery. Make sure you have Redis installed and running on your system before starting the Celery worker and the Flask application.'}, 'name': 'append_to_doc', 'type': 'tool_use'}]\n",
            "Tool Calls:\n",
            "  append_to_doc (toolu_018iiMaZNMi9QefYkajVd9Vk)\n",
            " Call ID: toolu_018iiMaZNMi9QefYkajVd9Vk\n",
            "  Args:\n",
            "    thread_id: 8582\n",
            "    filename: README.md\n",
            "    content: # Cat Facts Flask Application\n",
            "\n",
            "This Flask application uses Celery to fetch random cat facts from the Cat Facts API and display them on a webpage.\n",
            "\n",
            "## Files created/updated:\n",
            "\n",
            "- main.py: Contains the Flask application and Celery task definition\n",
            "- utils.py: Contains the function to fetch cat facts from the API\n",
            "- requirements.txt: Lists the required Python packages\n",
            "- celery_config.py: Contains Celery configuration\n",
            "- templates/index.html: HTML template for displaying cat facts\n",
            "\n",
            "## To run the code:\n",
            "\n",
            "1. Install the required dependencies:\n",
            "   ```\n",
            "   pip install -r requirements.txt\n",
            "   ```\n",
            "\n",
            "2. Make sure you have Redis installed and running on your system.\n",
            "\n",
            "3. Start the Celery worker:\n",
            "   ```\n",
            "   celery -A main.celery worker --loglevel=info\n",
            "   ```\n",
            "\n",
            "4. In a new terminal, run the Flask application:\n",
            "   ```\n",
            "   python main.py\n",
            "   ```\n",
            "\n",
            "5. Open a web browser and navigate to `http://localhost:5000` to see the cat fact.\n",
            "\n",
            "6. Click the \"Get Another Fact\" button to fetch and display a new cat fact.\n",
            "\n",
            "Note: The application uses Redis as the message broker for Celery. Make sure you have Redis installed and running on your system before starting the Celery worker and the Flask application.\n",
            "=================================\u001b[1m Tool Message \u001b[0m=================================\n",
            "Name: append_to_doc\n",
            "\n",
            "projects/8582/README.md\n",
            "==================================\u001b[1m Ai Message \u001b[0m==================================\n",
            "\n",
            "<answer>\n",
            "This Flask application uses Celery to hit the Cat Facts API and display the results on a webpage. Here's a brief explanation of how the code answers the user's question:\n",
            "\n",
            "1. The Flask application (main.py) defines a route that triggers a Celery task to fetch a cat fact.\n",
            "2. The Celery task (fetch_cat_fact) uses the get_cat_fact function from utils.py to make an API request to the Cat Facts API.\n",
            "3. The result is then displayed on a webpage using a simple HTML template.\n",
            "4. Celery is configured to use Redis as the message broker and result backend.\n",
            "\n",
            "Files created/updated:\n",
            "\n",
            "main.py: Contains the Flask application and Celery task definition\n",
            "utils.py: Contains the function to fetch cat facts from the API\n",
            "requirements.txt: Lists the required Python packages (Flask, Celery, requests, redis)\n",
            "celery_config.py: Contains Celery configuration\n",
            "templates/index.html: HTML template for displaying cat facts\n",
            "\n",
            "To run the code:\n",
            "\n",
            "1. Install the required dependencies:\n",
            "   ```\n",
            "   pip install -r requirements.txt\n",
            "   ```\n",
            "\n",
            "2. Make sure you have Redis installed and running on your system.\n",
            "\n",
            "3. Start the Celery worker:\n",
            "   ```\n",
            "   celery -A main.celery worker --loglevel=info\n",
            "   ```\n",
            "\n",
            "4. In a new terminal, run the Flask application:\n",
            "   ```\n",
            "   python main.py\n",
            "   ```\n",
            "\n",
            "5. Open a web browser and navigate to `http://localhost:5000` to see the cat fact.\n",
            "\n",
            "This implementation satisfies the user's request by creating a Flask application that uses Celery to asynchronously fetch data from the Cat Facts API and display it on a webpage.\n",
            "</answer>\n"
          ]
        }
      ]
    }
  ]
}